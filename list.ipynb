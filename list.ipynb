{
 "cells": [
  {
   "cell_type": "code",
   "execution_count": 1,
   "id": "d0b2ae75-d651-4b1f-8ae9-b6acba5a5be2",
   "metadata": {},
   "outputs": [],
   "source": [
    "x=[1,2,3,4,5,6,7,8,9,3]"
   ]
  },
  {
   "cell_type": "code",
   "execution_count": 2,
   "id": "d98e357c-d7eb-4026-b605-9e809f0a2db7",
   "metadata": {},
   "outputs": [
    {
     "data": {
      "text/plain": [
       "list"
      ]
     },
     "execution_count": 2,
     "metadata": {},
     "output_type": "execute_result"
    }
   ],
   "source": [
    "type(x)"
   ]
  },
  {
   "cell_type": "code",
   "execution_count": 3,
   "id": "a3083078-740f-44b3-bbd8-933073bac7a0",
   "metadata": {},
   "outputs": [
    {
     "data": {
      "text/plain": [
       "1"
      ]
     },
     "execution_count": 3,
     "metadata": {},
     "output_type": "execute_result"
    }
   ],
   "source": [
    "x[0]"
   ]
  },
  {
   "cell_type": "code",
   "execution_count": 6,
   "id": "117923dd-a27b-4f82-af95-a7ec6c7531f5",
   "metadata": {},
   "outputs": [
    {
     "data": {
      "text/plain": [
       "3"
      ]
     },
     "execution_count": 6,
     "metadata": {},
     "output_type": "execute_result"
    }
   ],
   "source": [
    "x[2]"
   ]
  },
  {
   "cell_type": "code",
   "execution_count": 8,
   "id": "44e68879-cd27-4b6a-978f-1d743865f336",
   "metadata": {},
   "outputs": [
    {
     "data": {
      "text/plain": [
       "[1]"
      ]
     },
     "execution_count": 8,
     "metadata": {},
     "output_type": "execute_result"
    }
   ],
   "source": [
    "x[0:1]"
   ]
  },
  {
   "cell_type": "code",
   "execution_count": 9,
   "id": "5f144f61-850e-4022-8ad0-6e624b3f6774",
   "metadata": {},
   "outputs": [
    {
     "data": {
      "text/plain": [
       "[1, 2, 3, 4, 5]"
      ]
     },
     "execution_count": 9,
     "metadata": {},
     "output_type": "execute_result"
    }
   ],
   "source": [
    "x[0:5]"
   ]
  },
  {
   "cell_type": "code",
   "execution_count": 10,
   "id": "312fcc85-c3e3-4ac0-ac26-8cf0b7f9fbf0",
   "metadata": {},
   "outputs": [
    {
     "data": {
      "text/plain": [
       "[7, 8, 9, 3]"
      ]
     },
     "execution_count": 10,
     "metadata": {},
     "output_type": "execute_result"
    }
   ],
   "source": [
    "x[6:10]"
   ]
  },
  {
   "cell_type": "code",
   "execution_count": 11,
   "id": "f3852121-52d5-4a2a-9d4f-f9f78cd25a71",
   "metadata": {},
   "outputs": [
    {
     "data": {
      "text/plain": [
       "3"
      ]
     },
     "execution_count": 11,
     "metadata": {},
     "output_type": "execute_result"
    }
   ],
   "source": [
    "x[-1]"
   ]
  },
  {
   "cell_type": "code",
   "execution_count": 31,
   "id": "7c80413e-e24f-45ab-8df8-e28bb89c1024",
   "metadata": {},
   "outputs": [
    {
     "data": {
      "text/plain": [
       "[3, 4, 5, 6, 7, 8, 9, 3]"
      ]
     },
     "execution_count": 31,
     "metadata": {},
     "output_type": "execute_result"
    }
   ],
   "source": [
    "x[2:]"
   ]
  },
  {
   "cell_type": "code",
   "execution_count": 33,
   "id": "7b9bae1d-58c5-4dae-a8ac-93b40fdc5590",
   "metadata": {},
   "outputs": [
    {
     "data": {
      "text/plain": [
       "[7, 8, 9, 3]"
      ]
     },
     "execution_count": 33,
     "metadata": {},
     "output_type": "execute_result"
    }
   ],
   "source": [
    "x[6:]"
   ]
  },
  {
   "cell_type": "code",
   "execution_count": 63,
   "id": "55eb1645-4211-405b-b4e5-b33f9a01429b",
   "metadata": {},
   "outputs": [],
   "source": [
    "x=[2,4,7,3,7,2,99,6,10]\n",
    "x.sort()"
   ]
  },
  {
   "cell_type": "code",
   "execution_count": 65,
   "id": "a87baae9-bc3f-44d3-9089-a4c7d6a32b04",
   "metadata": {},
   "outputs": [
    {
     "name": "stdout",
     "output_type": "stream",
     "text": [
      "[2, 2, 3, 4, 6, 7, 7, 10, 99]\n"
     ]
    }
   ],
   "source": [
    "print(x)"
   ]
  },
  {
   "cell_type": "code",
   "execution_count": 76,
   "id": "ce2ad366-3f16-403b-83b6-fd85c0caa1be",
   "metadata": {},
   "outputs": [],
   "source": [
    "x=[\"pranav\",\"kannan\",\"yadhu\",\"anu\",\"akhil\"]\n",
    "x.sort()"
   ]
  },
  {
   "cell_type": "code",
   "execution_count": 77,
   "id": "a0bb7e47-8fa3-41d8-9026-9c5a1173f185",
   "metadata": {},
   "outputs": [
    {
     "name": "stdout",
     "output_type": "stream",
     "text": [
      "['akhil', 'anu', 'kannan', 'pranav', 'yadhu']\n"
     ]
    }
   ],
   "source": [
    "print(x)"
   ]
  },
  {
   "cell_type": "code",
   "execution_count": 79,
   "id": "b5fa97d6-4cb7-4f23-b722-100e6a57a243",
   "metadata": {},
   "outputs": [],
   "source": [
    "x.append(\"deon\")"
   ]
  },
  {
   "cell_type": "code",
   "execution_count": 80,
   "id": "de1fab81-48ea-414d-804c-d83d7e49f1e5",
   "metadata": {},
   "outputs": [
    {
     "name": "stdout",
     "output_type": "stream",
     "text": [
      "['akhil', 'anu', 'kannan', 'pranav', 'yadhu', 'deon']\n"
     ]
    }
   ],
   "source": [
    "print(x)"
   ]
  },
  {
   "cell_type": "code",
   "execution_count": 83,
   "id": "e0ff6e72-dce6-47f8-83c6-21c3efc1c281",
   "metadata": {},
   "outputs": [],
   "source": [
    "x[0]=\"sahrdaya\""
   ]
  },
  {
   "cell_type": "code",
   "execution_count": 85,
   "id": "2ea0cc43-2300-4c9d-9154-6b1fba1f8d94",
   "metadata": {},
   "outputs": [
    {
     "name": "stdout",
     "output_type": "stream",
     "text": [
      "['sahrdaya', 'anu', 'kannan', 'pranav', 'yadhu', 'deon']\n"
     ]
    }
   ],
   "source": [
    "print(x)"
   ]
  },
  {
   "cell_type": "code",
   "execution_count": 97,
   "id": "7806fb95-f26a-4c27-82cc-a33cef0bb009",
   "metadata": {},
   "outputs": [],
   "source": [
    "x[5]=\"mrithul\""
   ]
  },
  {
   "cell_type": "code",
   "execution_count": 95,
   "id": "10a6084d-0230-4dfd-ac8d-235bb2cb93cd",
   "metadata": {},
   "outputs": [
    {
     "name": "stdout",
     "output_type": "stream",
     "text": [
      "['sahrdaya', 'anu', 'kannan', 'rahul', 'pranav', 'yadhu', 'mrithul']\n"
     ]
    }
   ],
   "source": [
    "x.insert(3,\"rahul\")\n",
    "print(x)"
   ]
  },
  {
   "cell_type": "code",
   "execution_count": null,
   "id": "59c2c4d3-e9e0-4df8-bd2b-701e2d953cac",
   "metadata": {},
   "outputs": [],
   "source": []
  }
 ],
 "metadata": {
  "kernelspec": {
   "display_name": "Python 3 (ipykernel)",
   "language": "python",
   "name": "python3"
  },
  "language_info": {
   "codemirror_mode": {
    "name": "ipython",
    "version": 3
   },
   "file_extension": ".py",
   "mimetype": "text/x-python",
   "name": "python",
   "nbconvert_exporter": "python",
   "pygments_lexer": "ipython3",
   "version": "3.9.12"
  }
 },
 "nbformat": 4,
 "nbformat_minor": 5
}
